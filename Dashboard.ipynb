{
 "cells": [
  {
   "cell_type": "markdown",
   "metadata": {},
   "source": [
    "# COVID-19 Dashboard"
   ]
  },
  {
   "cell_type": "markdown",
   "metadata": {},
   "source": [
    "Welcome to my COVID-19 dashboard, which illustrates the extensive and lasting impact of the recent pandemic. This dashboard aims to visually communicate the effects on public health, heightened societal awareness of health issues, and the enduring socio-economic challenges that continue to ripple through our communities. Drawing on the latest data from the Office for National Statistics (ONS) as of March 2023, it's evident that COVID-19 remains a significant health concern. In England alone, approximately 1 in 40 people are still testing positive, and the virus is responsible for 4.5% of deaths within the week. This ongoing situation is mirrored in public perception, with a notable portion of the population, around \"1 in 5 adults\" (Office for National Statistics, 2023), still viewing the coronavirus as a present and active threat. This is further evidenced by the same proportion of individuals continuing to use face coverings outside their homes, reflecting a collective effort to mitigate the spread of the virus.\n",
    "\n",
    "In this dashboard, you will find two interactive graphs. These graphs are designed to display some critical data points for comparison and also offer a dynamic and engaging way to understand the evolution and current state of the pandemic. By interacting with these graphs, you can explore various areas of COVID-19's impact, from hospital admissions to public health measures.\n",
    "\n",
    "The intention behind this dashboard is to provide an accessible view of the pandemic’s trajectory and its effects. It aims to deepen your understanding of how COVID-19 has shaped our world and to highlight the importance of continued awareness and adaptation in our responses."
   ]
  },
  {
   "cell_type": "code",
   "execution_count": 9,
   "metadata": {},
   "outputs": [],
   "source": [
    "# import necessary modules and libraries\n",
    "from IPython.display import clear_output\n",
    "import ipywidgets as wdg\n",
    "import pandas as pd\n",
    "import numpy as np\n",
    "import matplotlib.pyplot as plt\n",
    "import json\n",
    "from uk_covid19 import Cov19API\n",
    "\n",
    "%matplotlib inline\n",
    "# make figures larger\n",
    "plt.rcParams['figure.dpi'] = 125"
   ]
  },
  {
   "cell_type": "code",
   "execution_count": 10,
   "metadata": {},
   "outputs": [],
   "source": [
    "# function to grab list of data from JSON\n",
    "\n",
    "def extract_data(file_name):\n",
    "    with open(f\"./JSONs/{file_name}.json\", \"rt\") as FILE:\n",
    "        jsondata=json.load(FILE)\n",
    "\n",
    "    return jsondata['data']\n",
    "\n",
    "# defining variables containing the extracted JSON data for graph one and two\n",
    "# also define their metric variables here, just to reduce code repetition\n",
    "\n",
    "one_data = extract_data('tests_cases')\n",
    "one_metrics = ['tests', 'cases']\n",
    "two_data = extract_data('cases_admissions_occupancies')\n",
    "two_metrics = ['cases', 'admissions', 'occupancies']"
   ]
  },
  {
   "cell_type": "code",
   "execution_count": 11,
   "metadata": {},
   "outputs": [],
   "source": [
    "# below are functions relating to the management of graph data\n",
    "\n",
    "def parse_date(datestring):\n",
    "    \"\"\" Convert a date string into a pandas datetime object \"\"\"\n",
    "    return pd.to_datetime(datestring, format=\"%Y-%m-%d\")\n",
    "\n",
    "def wrangle_data(rawdata, metrics):\n",
    "    \"\"\" Parameters: rawdata - data from json file or API call. Returns a dataframe. \"\"\"\n",
    "\n",
    "    # use a list comprehension to generate a list of dates in the json data variable\n",
    "    dates = [item['date'] for item in rawdata]\n",
    "    dates.sort()\n",
    "\n",
    "    # set start and end dates to a pandas format\n",
    "    startdate = parse_date(dates[0])\n",
    "    enddate = parse_date(dates[-1])\n",
    "\n",
    "    # initialise empty dataframe\n",
    "    index = pd.date_range(startdate, enddate, freq='D')\n",
    "    df = pd.DataFrame(index=index, columns=metrics)\n",
    "\n",
    "    # check for each date and column combination in JSON, and fill if empty\n",
    "    for entry in rawdata:\n",
    "        date = parse_date(entry['date'])\n",
    "        for column in metrics:\n",
    "            if pd.isna(df.loc[date, column]): \n",
    "                value = entry[column] if entry[column]!= None else 0\n",
    "                df.loc[date, column] = value\n",
    "\n",
    "    # set remaining cells to 0 to get rid of n/a values\n",
    "    df.fillna(0, inplace=True)\n",
    "\n",
    "    # return filled-in dataframe, ready to be plotted\n",
    "    return df\n",
    "\n",
    "# create dataframes for graph one and two using locally-stored JSON data defined earlier\n",
    "df_one = wrangle_data(one_data, one_metrics)\n",
    "df_two = wrangle_data(two_data, two_metrics)"
   ]
  },
  {
   "cell_type": "code",
   "execution_count": 12,
   "metadata": {},
   "outputs": [],
   "source": [
    "# below are functions related to fetching API data and refreshing graphs\n",
    "\n",
    "def access_api(file_name, filters, structure):\n",
    "    \"\"\" Accesses the PHE API. Return data as a like-for-like replacement for the\n",
    "    \"canned\" data loaded from the JSON file. \"\"\"\n",
    "\n",
    "    api = Cov19API(filters=filters, structure=structure)\n",
    "    api_data = api.get_json()\n",
    "\n",
    "    with open(f\"./JSONs/{file_name}.json\", \"wt\") as FILE:\n",
    "        json.dump(api_data, FILE)\n",
    "\n",
    "    return api_data['data']\n",
    "\n",
    "\n",
    "def refresh_graph(filter_obj):\n",
    "    \"\"\" We change the value of the widget in order to force a redraw of the graph. \"\"\"\n",
    "    current = filter_obj.value\n",
    "    if len(current) == 1:\n",
    "        # get value of current index as a string\n",
    "        current = filter_obj.value[0]\n",
    "        # get the index within the filter's options by using index() method\n",
    "        current_index = filter_obj.options.index(current)\n",
    "        # set a temp index different to current value's index\n",
    "        temp_index = current_index - 1\n",
    "        # set filter's value to the temp index's string value represented as a tuple (e.g., ('tests',))\n",
    "        filter_one.value = tuple([filter_obj.options[temp_index]])\n",
    "        # with the same logic, set it back to the original value - this should refresh the graph\n",
    "        filter_one.value = tuple([filter_obj.options[current_index]])\n",
    "    else:\n",
    "        # for cases where len(current) != 1, as I cannot use index() on a multi-valued tuple\n",
    "        # just get one of the values in the tuple - all that matters is that it differs from the current tuple\n",
    "        temp_value = current[0]\n",
    "        # temporarily set filter's value to this temp value\n",
    "        filter_obj.value = tuple([temp_value])\n",
    "        # reset value to refresh graph\n",
    "        filter_obj.value = current\n",
    "        \n",
    "def api_button_callback(button_obj, file_name, filters, structure, graphno, filter_obj):\n",
    "    \"\"\" Button callback function \"\"\"\n",
    "    try:\n",
    "        api_data = access_api(file_name, filters, structure)\n",
    "        \n",
    "        global df_one\n",
    "        global df_two\n",
    "    \n",
    "        if graphno == 1:\n",
    "            df_one = wrangle_data(api_data, one_metrics)\n",
    "        else:\n",
    "            df_two = wrangle_data(api_data, two_metrics)\n",
    "    \n",
    "        refresh_graph(filter_obj)\n",
    "        button_obj.icon = \"check\"\n",
    "        button_obj.disabled = True\n",
    "        button_obj.button_style = 'success'\n",
    "    # exception handling in case API call went wrong\n",
    "    except Exception:\n",
    "        button_obj.icon = \"times\"\n",
    "        button_obj.button_style = \"danger\"\n",
    "        # change text on button to relay error message to user\n",
    "        button_obj.description = \"API Error\"\n",
    "        button_obj.disabled = True"
   ]
  },
  {
   "cell_type": "markdown",
   "metadata": {},
   "source": [
    "## Tests, Cases"
   ]
  },
  {
   "cell_type": "markdown",
   "metadata": {},
   "source": [
    "The graph below depicts the number of new COVID-19 tests taken, alongside the new COVID-19 cases confirmed from July 2021 to 2023. We observe a clear correlation: when testing ramps up, case numbers tend to spike, likely aligning with the infection waves. Through the latter half of 2021 and into early 2022, these spikes are quite pronounced, highlighting strong periods of testing and case discovery.\n",
    "\n",
    "Moving into 2022, there’s a noticeable decrease in both testing and cases, which could be due to the rollout of vaccinations and the enforcement of effective public health policies. Despite this decline, the graph does point out occasional spikes in cases post-2022. These spikes could perhaps be partly due to the reduced testing frequency, suggesting that when fewer tests are conducted, cases may go undetected, leading to a potential rise in unreported infections and allowing spread.\n",
    "\n",
    "Overall, the trend appears to show a reduction in the pandemic's impact over time. This downward trend is promising, suggesting that measures taken have been effective. Yet, the data also highlights the importance of continuous testing, as shown in the post-2022 spikes. Regular testing is key for catching new cases early and helping to prevent another wave of infections.\n",
    "\n",
    "Click the 'Refresh Data' button below to refresh the graph to the latest API data."
   ]
  },
  {
   "cell_type": "code",
   "execution_count": 13,
   "metadata": {},
   "outputs": [
    {
     "data": {
      "application/vnd.jupyter.widget-view+json": {
       "model_id": "8d3dbe7c594c41318d84dacd94355ba5",
       "version_major": 2,
       "version_minor": 0
      },
      "text/plain": [
       "HBox(children=(SelectMultiple(description='Filter:', index=(0, 1), options=('tests', 'cases'), rows=2, value=(…"
      ]
     },
     "metadata": {},
     "output_type": "display_data"
    },
    {
     "data": {
      "application/vnd.jupyter.widget-view+json": {
       "model_id": "794377c7ca7542f8a6d23302145e2daf",
       "version_major": 2,
       "version_minor": 0
      },
      "text/plain": [
       "Output()"
      ]
     },
     "metadata": {},
     "output_type": "display_data"
    }
   ],
   "source": [
    "# function to plot graph one based on the filters selected\n",
    "def plot_graph_one(filters, scale=None):\n",
    "    \"\"\" Plot graph one\"\"\"\n",
    "    logcheck = (scale == 'log scale')\n",
    "    \n",
    "    if len(filters) > 0:\n",
    "        df_one[list(filters)].plot(logy=logcheck)\n",
    "        plt.show()\n",
    "    else:\n",
    "        print(\"\\nClick to filter, or Shift/Ctrl Click to select multiple\")\n",
    "        \n",
    "\n",
    "# widget to allow multiple selection using graph one metrics defined earlier\n",
    "filter_one = wdg.SelectMultiple(\n",
    "    options = one_metrics,\n",
    "    value = one_metrics,\n",
    "    rows = 2,\n",
    "    description = 'Filter:',\n",
    "    disabled = False\n",
    ")\n",
    "\n",
    "# widget to set scale of graph one\n",
    "scale_one = wdg.RadioButtons(\n",
    "    options = ['default scale', 'log scale'],\n",
    "    disabled = False\n",
    ")\n",
    "\n",
    "control_container_one = wdg.HBox([filter_one, scale_one])\n",
    "\n",
    "    \n",
    "# connects the plotting function and the widget    \n",
    "graph_one = wdg.interactive_output(plot_graph_one, {'filters': filter_one, 'scale': scale_one})\n",
    "\n",
    "# display graph\n",
    "display(control_container_one, graph_one)"
   ]
  },
  {
   "cell_type": "code",
   "execution_count": 14,
   "metadata": {},
   "outputs": [
    {
     "data": {
      "application/vnd.jupyter.widget-view+json": {
       "model_id": "7da694e4795c4206a0d08d44d75b51ed",
       "version_major": 2,
       "version_minor": 0
      },
      "text/plain": [
       "Button(button_style='warning', description='Refresh Data', icon='download', style=ButtonStyle(), tooltip='Clic…"
      ]
     },
     "metadata": {},
     "output_type": "display_data"
    }
   ],
   "source": [
    "filters_one = ['areaType=nation', 'areaName=England']\n",
    "    \n",
    "structure_one = {\n",
    "    'date': 'date',\n",
    "    'tests': 'newTestsByPublishDate',\n",
    "    'cases': 'newCasesByPublishDate'\n",
    "}\n",
    "\n",
    "button_one = wdg.Button(\n",
    "    description = 'Refresh Data',\n",
    "    disabled = False,\n",
    "    button_style = 'warning',\n",
    "    tooltip = \"Click button to refresh data\",\n",
    "    icon = 'download'\n",
    ")\n",
    "\n",
    "# using a lambda function here to allow me to pass the callback function with\n",
    "# multiple arguments without evoking the function prematurely\n",
    "# necessary if I want to reuse the button code for both graphs to avoid repetition\n",
    "button_one.on_click(lambda x: api_button_callback(button_one, 'tests_cases', filters_one, structure_one , 1, filter_one))\n",
    "# here, graphno is set to '1' to indicate the global variable 'df_one' should be updated\n",
    "display(button_one)"
   ]
  },
  {
   "cell_type": "markdown",
   "metadata": {},
   "source": [
    "## Cases, Hospital Admissions, Bed Occupancy"
   ]
  },
  {
   "cell_type": "markdown",
   "metadata": {},
   "source": [
    "The graph below provides a side-by-side comparison of hospital admissions and bed occupancy for COVID-19 from mid-2020 through mid-2023. The data reveals that admissions and bed occupancy move together, suggesting a direct link—more admissions typically mean more beds filled, which makes sense. The early part of the graph shows steep peaks, which reflect the intense pressure on hospitals during the early and most severe phases of the pandemic. Moving forward in time, a gradual decrease in both admissions and occupancy is apparent, likely due to the rollout of vaccinations and improvements in treatments.\n",
    "\n",
    "Despite this overall trend of decline, there are still noticeable, though smaller, spikes in hospital activity through to 2023. These indicate that hospitals occasionally face the challenge of managing a rising number of COVID-19 patients. The reduced height of these later spikes could suggest that the pressure on hospital resources is not as intense as it was earlier in the pandemic.\n",
    "\n",
    "Overall, this graph highlights the need for hospitals to maintain readiness for potential future spikes and highlights the importance of ongoing public health measures to control the impact of the virus on healthcare systems.\n",
    "\n",
    "Click the 'Refresh Data' button below to refresh the graph to the latest API data."
   ]
  },
  {
   "cell_type": "code",
   "execution_count": 15,
   "metadata": {},
   "outputs": [
    {
     "data": {
      "application/vnd.jupyter.widget-view+json": {
       "model_id": "6f46cad2f6dd4e88b5dfc51afa2ae355",
       "version_major": 2,
       "version_minor": 0
      },
      "text/plain": [
       "HBox(children=(SelectMultiple(description='Filter:', index=(1, 2), options=('cases', 'admissions', 'occupancie…"
      ]
     },
     "metadata": {},
     "output_type": "display_data"
    },
    {
     "data": {
      "application/vnd.jupyter.widget-view+json": {
       "model_id": "7b90d0e812c84d09ae8593fa5d7ee9de",
       "version_major": 2,
       "version_minor": 0
      },
      "text/plain": [
       "Output()"
      ]
     },
     "metadata": {},
     "output_type": "display_data"
    }
   ],
   "source": [
    "# function to plot graph two based on the filters selected\n",
    "def plot_graph_two(filters, scale=None):\n",
    "    \"\"\" Plot graph two\"\"\"\n",
    "    logcheck = (scale == 'log scale')\n",
    "    \n",
    "    if len(filters) > 0:\n",
    "        df_two[list(filters)].plot(logy=logcheck)\n",
    "        plt.show()\n",
    "    else:\n",
    "        print(\"\\nClick to filter, or Shift/Ctrl Click to select multiple\")\n",
    "        \n",
    "\n",
    "# widget to allow multiple selection using graph two metrics defined earlier\n",
    "filter_two = wdg.SelectMultiple(\n",
    "    options = two_metrics,\n",
    "    value = ['admissions', 'occupancies'],\n",
    "    rows = 3,\n",
    "    description = 'Filter:',\n",
    "    disabled = False\n",
    ")\n",
    "\n",
    "# widget to set scale of graph two\n",
    "scale_two = wdg.RadioButtons(\n",
    "    options = ['default scale', 'log scale'],\n",
    "    disabled = False\n",
    ")\n",
    "\n",
    "control_container_two = wdg.HBox([filter_two, scale_two])\n",
    "\n",
    "    \n",
    "# connects the plotting function and the widget    \n",
    "graph_two = wdg.interactive_output(plot_graph_two, {'filters': filter_two, 'scale': scale_two})\n",
    "\n",
    "# display graph\n",
    "display(control_container_two, graph_two)"
   ]
  },
  {
   "cell_type": "code",
   "execution_count": 16,
   "metadata": {},
   "outputs": [
    {
     "data": {
      "application/vnd.jupyter.widget-view+json": {
       "model_id": "8a994690c276437992c512d7c33b4851",
       "version_major": 2,
       "version_minor": 0
      },
      "text/plain": [
       "Button(button_style='warning', description='Refresh Data', icon='download', style=ButtonStyle(), tooltip='Clic…"
      ]
     },
     "metadata": {},
     "output_type": "display_data"
    }
   ],
   "source": [
    "filters_two = ['areaType=nation', 'areaName=England']\n",
    "\n",
    "structure_two = {\n",
    "    'date': 'date',\n",
    "    'cases': 'newCasesByPublishDate',\n",
    "    'admissions': 'newAdmissions',\n",
    "    'occupancies': 'covidOccupiedMVBeds'\n",
    "}\n",
    "\n",
    "button_two = wdg.Button(\n",
    "    description = 'Refresh Data',\n",
    "    disabled = False,\n",
    "    button_style = 'warning',\n",
    "    tooltip = \"Click button to refresh data\",\n",
    "    icon = 'download'\n",
    ")\n",
    "\n",
    "# using a lambda function here to allow me to pass the callback function with\n",
    "# multiple arguments without evoking the function prematurely\n",
    "button_two.on_click(lambda x: api_button_callback(button_two, 'cases_admissions_occupancies', filters_two, structure_two , 2, filter_two))\n",
    "# here, graphno is set to '2' to indicate the global variable 'df_two' should be updated\n",
    "display(button_two)"
   ]
  },
  {
   "cell_type": "markdown",
   "metadata": {},
   "source": [
    "### References\n",
    "\n",
    "Office for National Statistics. (2022, March 30). Coronavirus (COVID-19) latest insights - Office for National Statistics. Www.ons.gov.uk. https://www.ons.gov.uk/peoplepopulationandcommunity/healthandsocialcare/conditionsanddiseases/articles/coronaviruscovid19/latestinsights"
   ]
  },
  {
   "cell_type": "markdown",
   "metadata": {},
   "source": [
    "### Author and Copyright Notice\n",
    "\n",
    "Based on UK Government [data](https://coronavirus.data.gov.uk/) published by [Public Health England](https://www.gov.uk/government/organisations/public-health-england) and on the [DIY Covid Dashboard Kit](https://github.com/fsmeraldi/diy-covid19dash)\n",
    "\n",
    "Copyright (C) Carlo Lopez, 2023. Released under the [GNU GPLv3.0 or later](https://www.gnu.org/licenses/)."
   ]
  },
  {
   "cell_type": "code",
   "execution_count": null,
   "metadata": {},
   "outputs": [],
   "source": []
  }
 ],
 "metadata": {
  "kernelspec": {
   "display_name": "Python 3 (ipykernel)",
   "language": "python",
   "name": "python3"
  },
  "language_info": {
   "codemirror_mode": {
    "name": "ipython",
    "version": 3
   },
   "file_extension": ".py",
   "mimetype": "text/x-python",
   "name": "python",
   "nbconvert_exporter": "python",
   "pygments_lexer": "ipython3",
   "version": "3.10.9"
  }
 },
 "nbformat": 4,
 "nbformat_minor": 4
}
